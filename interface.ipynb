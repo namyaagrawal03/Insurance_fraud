{
  "nbformat": 4,
  "nbformat_minor": 0,
  "metadata": {
    "colab": {
      "provenance": [],
      "authorship_tag": "ABX9TyN6Jc3/BVfciKbl0O8AQRiI",
      "include_colab_link": true
    },
    "kernelspec": {
      "name": "python3",
      "display_name": "Python 3"
    },
    "language_info": {
      "name": "python"
    }
  },
  "cells": [
    {
      "cell_type": "markdown",
      "metadata": {
        "id": "view-in-github",
        "colab_type": "text"
      },
      "source": [
        "<a href=\"https://colab.research.google.com/github/namyaagrawal03/Insurance_fraud/blob/main/interface.ipynb\" target=\"_parent\"><img src=\"https://colab.research.google.com/assets/colab-badge.svg\" alt=\"Open In Colab\"/></a>"
      ]
    },
    {
      "cell_type": "code",
      "execution_count": 19,
      "metadata": {
        "colab": {
          "base_uri": "https://localhost:8080/"
        },
        "id": "pl-sB_nRM16b",
        "outputId": "15e971c7-ae04-4e79-e4f3-230c1bc65e24"
      },
      "outputs": [
        {
          "output_type": "stream",
          "name": "stdout",
          "text": [
            "Collecting typing-extensions==4.4.0\n",
            "  Using cached typing_extensions-4.4.0-py3-none-any.whl (26 kB)\n",
            "Installing collected packages: typing-extensions\n",
            "  Attempting uninstall: typing-extensions\n",
            "    Found existing installation: typing_extensions 4.9.0\n",
            "    Uninstalling typing_extensions-4.9.0:\n",
            "      Successfully uninstalled typing_extensions-4.9.0\n",
            "\u001b[31mERROR: pip's dependency resolver does not currently take into account all the packages that are installed. This behaviour is the source of the following dependency conflicts.\n",
            "fastapi 0.108.0 requires typing-extensions>=4.8.0, but you have typing-extensions 4.4.0 which is incompatible.\n",
            "openai 1.6.1 requires typing-extensions<5,>=4.7, but you have typing-extensions 4.4.0 which is incompatible.\n",
            "pydantic 2.5.3 requires typing-extensions>=4.6.1, but you have typing-extensions 4.4.0 which is incompatible.\n",
            "pydantic-core 2.14.6 requires typing-extensions!=4.7.0,>=4.6.0, but you have typing-extensions 4.4.0 which is incompatible.\u001b[0m\u001b[31m\n",
            "\u001b[0mSuccessfully installed typing-extensions-4.4.0\n"
          ]
        }
      ],
      "source": [
        "!pip install typing-extensions==4.4.0"
      ]
    },
    {
      "cell_type": "code",
      "source": [
        "!pip install --upgrade lida -q\n",
        "!pip install --upgrade fastapi -q\n",
        "!pip install --upgrade pydantic -q\n",
        "!pip install --upgrade pydantic-core -q\n",
        "!pip install --upgrade tensorflow-probability -q"
      ],
      "metadata": {
        "id": "z_sjNBijM4ah"
      },
      "execution_count": 14,
      "outputs": []
    },
    {
      "cell_type": "code",
      "source": [
        "!pip install gradio -q"
      ],
      "metadata": {
        "id": "31xKnGEnM_sG"
      },
      "execution_count": 15,
      "outputs": []
    },
    {
      "cell_type": "code",
      "source": [
        "import gradio as gr"
      ],
      "metadata": {
        "id": "UfTnxdRQNAYv"
      },
      "execution_count": 16,
      "outputs": []
    },
    {
      "cell_type": "code",
      "source": [
        "import joblib\n",
        "import pandas as pd\n",
        "from sklearn.preprocessing import StandardScaler\n",
        "from google.colab import drive\n",
        "drive.mount('/content/drive')\n",
        "rfc = joblib.load('/content/drive/MyDrive/Colab Notebooks/trained_model.pkl')\n",
        "scaler = StandardScaler()"
      ],
      "metadata": {
        "colab": {
          "base_uri": "https://localhost:8080/"
        },
        "id": "XjaAG2wGNO59",
        "outputId": "d68e15cb-4885-4ea9-8cc5-c8b8daa7eb61"
      },
      "execution_count": 17,
      "outputs": [
        {
          "output_type": "stream",
          "name": "stdout",
          "text": [
            "Drive already mounted at /content/drive; to attempt to forcibly remount, call drive.mount(\"/content/drive\", force_remount=True).\n"
          ]
        }
      ]
    },
    {
      "cell_type": "code",
      "source": [
        "def predict_fraud(Make, AccidentArea, Sex, Age, MaritalStatus, PolicyType,\n",
        "       VehiclePrice, Deductible, DriverRating, PastNumberOfClaims,\n",
        "       AgeOfVehicle, PoliceReportFiled, WitnessPresent, AgentType,\n",
        "       NumberOfCars):\n",
        "    # Assuming x_test is a DataFrame or array with the same features as your model\n",
        "    test_data = [[Make, AccidentArea, Sex, Age, MaritalStatus, PolicyType,\n",
        "       VehiclePrice, Deductible, DriverRating, PastNumberOfClaims,\n",
        "       AgeOfVehicle, PoliceReportFiled, WitnessPresent, AgentType,\n",
        "       NumberOfCars]]  # Create test data\n",
        "\n",
        "    categorical_cols = test_data.select_dtypes(include =['object'])\n",
        "    numerical_col = test_data.select_dtypes(include= ['int64'])\n",
        "\n",
        "    #one hot encoding\n",
        "    categorical_cols= pd.get_dummies(categorical_cols, drop_first= True)\n",
        "\n",
        "    #scaling\n",
        "    numerical_col=scaler.fit_transform(numerical_col)\n",
        "    test_data=pd.concat([numerical_col, categorical_cols], axis=1)\n",
        "\n",
        "    # Make predictions using the loaded RandomForestClassifier model\n",
        "    predicted_label = rfc.predict(test_data)\n",
        "\n",
        "    if predicted_label[0] == 1:\n",
        "        output_label = \"Fraud Detected\"\n",
        "    else:\n",
        "        output_label = \"No Fraud Detected\"\n",
        "\n",
        "    return output_label"
      ],
      "metadata": {
        "id": "xwkmdoNQlFxI"
      },
      "execution_count": 18,
      "outputs": []
    },
    {
      "cell_type": "code",
      "source": [
        "make_input = gr.inputs.Number(label=\"Make of the vehicle\")\n",
        "accident_area_input = gr.inputs.Textbox(label=\"Accident Area\")\n",
        "sex_input = gr.inputs.Number(label=\"Sex\")\n",
        "age_input= gr.inputs.Number(label=\"Age\")\n",
        "marital_status_input= gr.inputs.Number(label=\"Marital Status\")\n",
        "policy_type_input= gr.inputs.Number(label=\"Policy Type\")\n",
        "vehicle_price_input= gr.inputs.Number(label=\"Price of the Vehicle\")\n",
        "deductible_input= gr.inputs.Number(label=\"Deductible Amount\")\n",
        "driver_rating_input= gr.inputs.Number(label=\"Driver Rating\")\n",
        "past_num_of_claims=gr.inputs.Number(label= \"Past Number of Claims\")\n",
        "policy_type_input= gr.inputs.Number(label=\"Policy Type\")\n",
        "age_of_vehicle= gr.inputs.Number(label=\"Age of the Vehicle\")\n",
        "police_report_filed= gr.inputs.Number(label=\"Was a police report filed?\")\n",
        "witness_present= gr.inputs.Number(label=\"Was any witness present?\")\n"
      ],
      "metadata": {
        "colab": {
          "base_uri": "https://localhost:8080/",
          "height": 245
        },
        "id": "TPPEg9Le68qu",
        "outputId": "2ace572e-8641-4c79-8957-60c4186b307d"
      },
      "execution_count": 12,
      "outputs": [
        {
          "output_type": "error",
          "ename": "AttributeError",
          "evalue": "ignored",
          "traceback": [
            "\u001b[0;31m---------------------------------------------------------------------------\u001b[0m",
            "\u001b[0;31mAttributeError\u001b[0m                            Traceback (most recent call last)",
            "\u001b[0;32m<ipython-input-12-9a0f68808304>\u001b[0m in \u001b[0;36m<cell line: 1>\u001b[0;34m()\u001b[0m\n\u001b[0;32m----> 1\u001b[0;31m \u001b[0mmake_input\u001b[0m \u001b[0;34m=\u001b[0m \u001b[0mgr\u001b[0m\u001b[0;34m.\u001b[0m\u001b[0minputs\u001b[0m\u001b[0;34m.\u001b[0m\u001b[0mNumber\u001b[0m\u001b[0;34m(\u001b[0m\u001b[0mlabel\u001b[0m\u001b[0;34m=\u001b[0m\u001b[0;34m\"Make of the vehicle\"\u001b[0m\u001b[0;34m)\u001b[0m\u001b[0;34m\u001b[0m\u001b[0;34m\u001b[0m\u001b[0m\n\u001b[0m\u001b[1;32m      2\u001b[0m \u001b[0maccident_area_input\u001b[0m \u001b[0;34m=\u001b[0m \u001b[0mgr\u001b[0m\u001b[0;34m.\u001b[0m\u001b[0minputs\u001b[0m\u001b[0;34m.\u001b[0m\u001b[0mTextbox\u001b[0m\u001b[0;34m(\u001b[0m\u001b[0mlabel\u001b[0m\u001b[0;34m=\u001b[0m\u001b[0;34m\"Accident Area\"\u001b[0m\u001b[0;34m)\u001b[0m\u001b[0;34m\u001b[0m\u001b[0;34m\u001b[0m\u001b[0m\n\u001b[1;32m      3\u001b[0m \u001b[0msex_input\u001b[0m \u001b[0;34m=\u001b[0m \u001b[0mgr\u001b[0m\u001b[0;34m.\u001b[0m\u001b[0minputs\u001b[0m\u001b[0;34m.\u001b[0m\u001b[0mNumber\u001b[0m\u001b[0;34m(\u001b[0m\u001b[0mlabel\u001b[0m\u001b[0;34m=\u001b[0m\u001b[0;34m\"Sex\"\u001b[0m\u001b[0;34m)\u001b[0m\u001b[0;34m\u001b[0m\u001b[0;34m\u001b[0m\u001b[0m\n\u001b[1;32m      4\u001b[0m \u001b[0mage_input\u001b[0m\u001b[0;34m=\u001b[0m \u001b[0mgr\u001b[0m\u001b[0;34m.\u001b[0m\u001b[0minputs\u001b[0m\u001b[0;34m.\u001b[0m\u001b[0mNumber\u001b[0m\u001b[0;34m(\u001b[0m\u001b[0mlabel\u001b[0m\u001b[0;34m=\u001b[0m\u001b[0;34m\"Age\"\u001b[0m\u001b[0;34m)\u001b[0m\u001b[0;34m\u001b[0m\u001b[0;34m\u001b[0m\u001b[0m\n\u001b[1;32m      5\u001b[0m \u001b[0mmarital_status_input\u001b[0m\u001b[0;34m=\u001b[0m \u001b[0mgr\u001b[0m\u001b[0;34m.\u001b[0m\u001b[0minputs\u001b[0m\u001b[0;34m.\u001b[0m\u001b[0mNumber\u001b[0m\u001b[0;34m(\u001b[0m\u001b[0mlabel\u001b[0m\u001b[0;34m=\u001b[0m\u001b[0;34m\"Marital Status\"\u001b[0m\u001b[0;34m)\u001b[0m\u001b[0;34m\u001b[0m\u001b[0;34m\u001b[0m\u001b[0m\n",
            "\u001b[0;31mAttributeError\u001b[0m: module 'gradio' has no attribute 'inputs'"
          ]
        }
      ]
    },
    {
      "cell_type": "code",
      "source": [],
      "metadata": {
        "id": "IQYX2x01Zq0r"
      },
      "execution_count": null,
      "outputs": []
    }
  ]
}